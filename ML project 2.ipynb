{
 "cells": [
  {
   "cell_type": "markdown",
   "id": "fb2aa842",
   "metadata": {},
   "source": [
    "# Part-1: data Exploration and Pre-processing"
   ]
  },
  {
   "cell_type": "code",
   "execution_count": 1,
   "id": "8b6354e1",
   "metadata": {},
   "outputs": [],
   "source": [
    "import pandas as pd\n",
    "import numpy as np\n",
    "import seaborn as sns\n",
    "import matplotlib.pyplot as plt\n",
    "%matplotlib inline"
   ]
  },
  {
   "cell_type": "code",
   "execution_count": null,
   "id": "23a2ab2b",
   "metadata": {},
   "outputs": [],
   "source": []
  },
  {
   "cell_type": "markdown",
   "id": "06d53a2c",
   "metadata": {},
   "source": [
    "1) Load the given dataset"
   ]
  },
  {
   "cell_type": "code",
   "execution_count": 2,
   "id": "55872513",
   "metadata": {},
   "outputs": [],
   "source": [
    "df=pd.read_csv(\"Python_Linear_Regres.csv\")"
   ]
  },
  {
   "cell_type": "code",
   "execution_count": 3,
   "id": "19a398af",
   "metadata": {},
   "outputs": [
    {
     "data": {
      "text/html": [
       "<div>\n",
       "<style scoped>\n",
       "    .dataframe tbody tr th:only-of-type {\n",
       "        vertical-align: middle;\n",
       "    }\n",
       "\n",
       "    .dataframe tbody tr th {\n",
       "        vertical-align: top;\n",
       "    }\n",
       "\n",
       "    .dataframe thead th {\n",
       "        text-align: right;\n",
       "    }\n",
       "</style>\n",
       "<table border=\"1\" class=\"dataframe\">\n",
       "  <thead>\n",
       "    <tr style=\"text-align: right;\">\n",
       "      <th></th>\n",
       "      <th>Suburb</th>\n",
       "      <th>Address</th>\n",
       "      <th>Rooms</th>\n",
       "      <th>Type</th>\n",
       "      <th>Price</th>\n",
       "      <th>Method</th>\n",
       "      <th>SellerG</th>\n",
       "      <th>Date</th>\n",
       "      <th>Distance</th>\n",
       "      <th>Postcode</th>\n",
       "      <th>...</th>\n",
       "      <th>Bathroom</th>\n",
       "      <th>Car</th>\n",
       "      <th>Landsize</th>\n",
       "      <th>BuildingArea</th>\n",
       "      <th>YearBuilt</th>\n",
       "      <th>CouncilArea</th>\n",
       "      <th>Lattitude</th>\n",
       "      <th>Longtitude</th>\n",
       "      <th>Regionname</th>\n",
       "      <th>Propertycount</th>\n",
       "    </tr>\n",
       "  </thead>\n",
       "  <tbody>\n",
       "    <tr>\n",
       "      <th>0</th>\n",
       "      <td>Abbotsford</td>\n",
       "      <td>68 Studley St</td>\n",
       "      <td>2</td>\n",
       "      <td>h</td>\n",
       "      <td>NaN</td>\n",
       "      <td>SS</td>\n",
       "      <td>Jellis</td>\n",
       "      <td>03/09/2016</td>\n",
       "      <td>2.5</td>\n",
       "      <td>3067.0</td>\n",
       "      <td>...</td>\n",
       "      <td>1.0</td>\n",
       "      <td>1.0</td>\n",
       "      <td>126.0</td>\n",
       "      <td>NaN</td>\n",
       "      <td>NaN</td>\n",
       "      <td>Yarra City Council</td>\n",
       "      <td>-37.8014</td>\n",
       "      <td>144.9958</td>\n",
       "      <td>Northern Metropolitan</td>\n",
       "      <td>4019.0</td>\n",
       "    </tr>\n",
       "    <tr>\n",
       "      <th>1</th>\n",
       "      <td>Abbotsford</td>\n",
       "      <td>85 Turner St</td>\n",
       "      <td>2</td>\n",
       "      <td>h</td>\n",
       "      <td>1480000.0</td>\n",
       "      <td>S</td>\n",
       "      <td>Biggin</td>\n",
       "      <td>03/12/2016</td>\n",
       "      <td>2.5</td>\n",
       "      <td>3067.0</td>\n",
       "      <td>...</td>\n",
       "      <td>1.0</td>\n",
       "      <td>1.0</td>\n",
       "      <td>202.0</td>\n",
       "      <td>NaN</td>\n",
       "      <td>NaN</td>\n",
       "      <td>Yarra City Council</td>\n",
       "      <td>-37.7996</td>\n",
       "      <td>144.9984</td>\n",
       "      <td>Northern Metropolitan</td>\n",
       "      <td>4019.0</td>\n",
       "    </tr>\n",
       "    <tr>\n",
       "      <th>2</th>\n",
       "      <td>Abbotsford</td>\n",
       "      <td>25 Bloomburg St</td>\n",
       "      <td>2</td>\n",
       "      <td>h</td>\n",
       "      <td>1035000.0</td>\n",
       "      <td>S</td>\n",
       "      <td>Biggin</td>\n",
       "      <td>04/02/2016</td>\n",
       "      <td>2.5</td>\n",
       "      <td>3067.0</td>\n",
       "      <td>...</td>\n",
       "      <td>1.0</td>\n",
       "      <td>0.0</td>\n",
       "      <td>156.0</td>\n",
       "      <td>79.0</td>\n",
       "      <td>1900.0</td>\n",
       "      <td>Yarra City Council</td>\n",
       "      <td>-37.8079</td>\n",
       "      <td>144.9934</td>\n",
       "      <td>Northern Metropolitan</td>\n",
       "      <td>4019.0</td>\n",
       "    </tr>\n",
       "    <tr>\n",
       "      <th>3</th>\n",
       "      <td>Abbotsford</td>\n",
       "      <td>18/659 Victoria St</td>\n",
       "      <td>3</td>\n",
       "      <td>u</td>\n",
       "      <td>NaN</td>\n",
       "      <td>VB</td>\n",
       "      <td>Rounds</td>\n",
       "      <td>04/02/2016</td>\n",
       "      <td>2.5</td>\n",
       "      <td>3067.0</td>\n",
       "      <td>...</td>\n",
       "      <td>2.0</td>\n",
       "      <td>1.0</td>\n",
       "      <td>0.0</td>\n",
       "      <td>NaN</td>\n",
       "      <td>NaN</td>\n",
       "      <td>Yarra City Council</td>\n",
       "      <td>-37.8114</td>\n",
       "      <td>145.0116</td>\n",
       "      <td>Northern Metropolitan</td>\n",
       "      <td>4019.0</td>\n",
       "    </tr>\n",
       "    <tr>\n",
       "      <th>4</th>\n",
       "      <td>Abbotsford</td>\n",
       "      <td>5 Charles St</td>\n",
       "      <td>3</td>\n",
       "      <td>h</td>\n",
       "      <td>1465000.0</td>\n",
       "      <td>SP</td>\n",
       "      <td>Biggin</td>\n",
       "      <td>04/03/2017</td>\n",
       "      <td>2.5</td>\n",
       "      <td>3067.0</td>\n",
       "      <td>...</td>\n",
       "      <td>2.0</td>\n",
       "      <td>0.0</td>\n",
       "      <td>134.0</td>\n",
       "      <td>150.0</td>\n",
       "      <td>1900.0</td>\n",
       "      <td>Yarra City Council</td>\n",
       "      <td>-37.8093</td>\n",
       "      <td>144.9944</td>\n",
       "      <td>Northern Metropolitan</td>\n",
       "      <td>4019.0</td>\n",
       "    </tr>\n",
       "  </tbody>\n",
       "</table>\n",
       "<p>5 rows × 21 columns</p>\n",
       "</div>"
      ],
      "text/plain": [
       "       Suburb             Address  Rooms Type      Price Method SellerG  \\\n",
       "0  Abbotsford       68 Studley St      2    h        NaN     SS  Jellis   \n",
       "1  Abbotsford        85 Turner St      2    h  1480000.0      S  Biggin   \n",
       "2  Abbotsford     25 Bloomburg St      2    h  1035000.0      S  Biggin   \n",
       "3  Abbotsford  18/659 Victoria St      3    u        NaN     VB  Rounds   \n",
       "4  Abbotsford        5 Charles St      3    h  1465000.0     SP  Biggin   \n",
       "\n",
       "         Date  Distance  Postcode  ...  Bathroom  Car  Landsize  BuildingArea  \\\n",
       "0  03/09/2016       2.5    3067.0  ...       1.0  1.0     126.0           NaN   \n",
       "1  03/12/2016       2.5    3067.0  ...       1.0  1.0     202.0           NaN   \n",
       "2  04/02/2016       2.5    3067.0  ...       1.0  0.0     156.0          79.0   \n",
       "3  04/02/2016       2.5    3067.0  ...       2.0  1.0       0.0           NaN   \n",
       "4  04/03/2017       2.5    3067.0  ...       2.0  0.0     134.0         150.0   \n",
       "\n",
       "   YearBuilt         CouncilArea Lattitude  Longtitude             Regionname  \\\n",
       "0        NaN  Yarra City Council  -37.8014    144.9958  Northern Metropolitan   \n",
       "1        NaN  Yarra City Council  -37.7996    144.9984  Northern Metropolitan   \n",
       "2     1900.0  Yarra City Council  -37.8079    144.9934  Northern Metropolitan   \n",
       "3        NaN  Yarra City Council  -37.8114    145.0116  Northern Metropolitan   \n",
       "4     1900.0  Yarra City Council  -37.8093    144.9944  Northern Metropolitan   \n",
       "\n",
       "  Propertycount  \n",
       "0        4019.0  \n",
       "1        4019.0  \n",
       "2        4019.0  \n",
       "3        4019.0  \n",
       "4        4019.0  \n",
       "\n",
       "[5 rows x 21 columns]"
      ]
     },
     "execution_count": 3,
     "metadata": {},
     "output_type": "execute_result"
    }
   ],
   "source": [
    "df.head()"
   ]
  },
  {
   "cell_type": "code",
   "execution_count": null,
   "id": "849074be",
   "metadata": {},
   "outputs": [],
   "source": []
  },
  {
   "cell_type": "markdown",
   "id": "3dfab972",
   "metadata": {},
   "source": [
    "2) Print all the column names"
   ]
  },
  {
   "cell_type": "code",
   "execution_count": 4,
   "id": "05a05618",
   "metadata": {},
   "outputs": [
    {
     "data": {
      "text/plain": [
       "Index(['Suburb', 'Address', 'Rooms', 'Type', 'Price', 'Method', 'SellerG',\n",
       "       'Date', 'Distance', 'Postcode', 'Bedroom2', 'Bathroom', 'Car',\n",
       "       'Landsize', 'BuildingArea', 'YearBuilt', 'CouncilArea', 'Lattitude',\n",
       "       'Longtitude', 'Regionname', 'Propertycount'],\n",
       "      dtype='object')"
      ]
     },
     "execution_count": 4,
     "metadata": {},
     "output_type": "execute_result"
    }
   ],
   "source": [
    "df.columns"
   ]
  },
  {
   "cell_type": "code",
   "execution_count": null,
   "id": "602f2c95",
   "metadata": {},
   "outputs": [],
   "source": []
  },
  {
   "cell_type": "markdown",
   "id": "4a21b02d",
   "metadata": {},
   "source": [
    "3) Describe the data"
   ]
  },
  {
   "cell_type": "code",
   "execution_count": 8,
   "id": "46786805",
   "metadata": {},
   "outputs": [
    {
     "data": {
      "text/html": [
       "<div>\n",
       "<style scoped>\n",
       "    .dataframe tbody tr th:only-of-type {\n",
       "        vertical-align: middle;\n",
       "    }\n",
       "\n",
       "    .dataframe tbody tr th {\n",
       "        vertical-align: top;\n",
       "    }\n",
       "\n",
       "    .dataframe thead th {\n",
       "        text-align: right;\n",
       "    }\n",
       "</style>\n",
       "<table border=\"1\" class=\"dataframe\">\n",
       "  <thead>\n",
       "    <tr style=\"text-align: right;\">\n",
       "      <th></th>\n",
       "      <th>Rooms</th>\n",
       "      <th>Price</th>\n",
       "      <th>Distance</th>\n",
       "      <th>Postcode</th>\n",
       "      <th>Bedroom2</th>\n",
       "      <th>Bathroom</th>\n",
       "      <th>Car</th>\n",
       "      <th>Landsize</th>\n",
       "      <th>BuildingArea</th>\n",
       "      <th>YearBuilt</th>\n",
       "      <th>Lattitude</th>\n",
       "      <th>Longtitude</th>\n",
       "      <th>Propertycount</th>\n",
       "    </tr>\n",
       "  </thead>\n",
       "  <tbody>\n",
       "    <tr>\n",
       "      <th>count</th>\n",
       "      <td>34857.000000</td>\n",
       "      <td>2.724700e+04</td>\n",
       "      <td>34856.000000</td>\n",
       "      <td>34856.000000</td>\n",
       "      <td>26640.000000</td>\n",
       "      <td>26631.000000</td>\n",
       "      <td>26129.000000</td>\n",
       "      <td>23047.000000</td>\n",
       "      <td>13742.00000</td>\n",
       "      <td>15551.000000</td>\n",
       "      <td>26881.000000</td>\n",
       "      <td>26881.000000</td>\n",
       "      <td>34854.000000</td>\n",
       "    </tr>\n",
       "    <tr>\n",
       "      <th>mean</th>\n",
       "      <td>3.031012</td>\n",
       "      <td>1.050173e+06</td>\n",
       "      <td>11.184929</td>\n",
       "      <td>3116.062859</td>\n",
       "      <td>3.084647</td>\n",
       "      <td>1.624798</td>\n",
       "      <td>1.728845</td>\n",
       "      <td>593.598993</td>\n",
       "      <td>160.25640</td>\n",
       "      <td>1965.289885</td>\n",
       "      <td>-37.810634</td>\n",
       "      <td>145.001851</td>\n",
       "      <td>7572.888306</td>\n",
       "    </tr>\n",
       "    <tr>\n",
       "      <th>std</th>\n",
       "      <td>0.969933</td>\n",
       "      <td>6.414671e+05</td>\n",
       "      <td>6.788892</td>\n",
       "      <td>109.023903</td>\n",
       "      <td>0.980690</td>\n",
       "      <td>0.724212</td>\n",
       "      <td>1.010771</td>\n",
       "      <td>3398.841946</td>\n",
       "      <td>401.26706</td>\n",
       "      <td>37.328178</td>\n",
       "      <td>0.090279</td>\n",
       "      <td>0.120169</td>\n",
       "      <td>4428.090313</td>\n",
       "    </tr>\n",
       "    <tr>\n",
       "      <th>min</th>\n",
       "      <td>1.000000</td>\n",
       "      <td>8.500000e+04</td>\n",
       "      <td>0.000000</td>\n",
       "      <td>3000.000000</td>\n",
       "      <td>0.000000</td>\n",
       "      <td>0.000000</td>\n",
       "      <td>0.000000</td>\n",
       "      <td>0.000000</td>\n",
       "      <td>0.00000</td>\n",
       "      <td>1196.000000</td>\n",
       "      <td>-38.190430</td>\n",
       "      <td>144.423790</td>\n",
       "      <td>83.000000</td>\n",
       "    </tr>\n",
       "    <tr>\n",
       "      <th>25%</th>\n",
       "      <td>2.000000</td>\n",
       "      <td>6.350000e+05</td>\n",
       "      <td>6.400000</td>\n",
       "      <td>3051.000000</td>\n",
       "      <td>2.000000</td>\n",
       "      <td>1.000000</td>\n",
       "      <td>1.000000</td>\n",
       "      <td>224.000000</td>\n",
       "      <td>102.00000</td>\n",
       "      <td>1940.000000</td>\n",
       "      <td>-37.862950</td>\n",
       "      <td>144.933500</td>\n",
       "      <td>4385.000000</td>\n",
       "    </tr>\n",
       "    <tr>\n",
       "      <th>50%</th>\n",
       "      <td>3.000000</td>\n",
       "      <td>8.700000e+05</td>\n",
       "      <td>10.300000</td>\n",
       "      <td>3103.000000</td>\n",
       "      <td>3.000000</td>\n",
       "      <td>2.000000</td>\n",
       "      <td>2.000000</td>\n",
       "      <td>521.000000</td>\n",
       "      <td>136.00000</td>\n",
       "      <td>1970.000000</td>\n",
       "      <td>-37.807600</td>\n",
       "      <td>145.007800</td>\n",
       "      <td>6763.000000</td>\n",
       "    </tr>\n",
       "    <tr>\n",
       "      <th>75%</th>\n",
       "      <td>4.000000</td>\n",
       "      <td>1.295000e+06</td>\n",
       "      <td>14.000000</td>\n",
       "      <td>3156.000000</td>\n",
       "      <td>4.000000</td>\n",
       "      <td>2.000000</td>\n",
       "      <td>2.000000</td>\n",
       "      <td>670.000000</td>\n",
       "      <td>188.00000</td>\n",
       "      <td>2000.000000</td>\n",
       "      <td>-37.754100</td>\n",
       "      <td>145.071900</td>\n",
       "      <td>10412.000000</td>\n",
       "    </tr>\n",
       "    <tr>\n",
       "      <th>max</th>\n",
       "      <td>16.000000</td>\n",
       "      <td>1.120000e+07</td>\n",
       "      <td>48.100000</td>\n",
       "      <td>3978.000000</td>\n",
       "      <td>30.000000</td>\n",
       "      <td>12.000000</td>\n",
       "      <td>26.000000</td>\n",
       "      <td>433014.000000</td>\n",
       "      <td>44515.00000</td>\n",
       "      <td>2106.000000</td>\n",
       "      <td>-37.390200</td>\n",
       "      <td>145.526350</td>\n",
       "      <td>21650.000000</td>\n",
       "    </tr>\n",
       "  </tbody>\n",
       "</table>\n",
       "</div>"
      ],
      "text/plain": [
       "              Rooms         Price      Distance      Postcode      Bedroom2  \\\n",
       "count  34857.000000  2.724700e+04  34856.000000  34856.000000  26640.000000   \n",
       "mean       3.031012  1.050173e+06     11.184929   3116.062859      3.084647   \n",
       "std        0.969933  6.414671e+05      6.788892    109.023903      0.980690   \n",
       "min        1.000000  8.500000e+04      0.000000   3000.000000      0.000000   \n",
       "25%        2.000000  6.350000e+05      6.400000   3051.000000      2.000000   \n",
       "50%        3.000000  8.700000e+05     10.300000   3103.000000      3.000000   \n",
       "75%        4.000000  1.295000e+06     14.000000   3156.000000      4.000000   \n",
       "max       16.000000  1.120000e+07     48.100000   3978.000000     30.000000   \n",
       "\n",
       "           Bathroom           Car       Landsize  BuildingArea     YearBuilt  \\\n",
       "count  26631.000000  26129.000000   23047.000000   13742.00000  15551.000000   \n",
       "mean       1.624798      1.728845     593.598993     160.25640   1965.289885   \n",
       "std        0.724212      1.010771    3398.841946     401.26706     37.328178   \n",
       "min        0.000000      0.000000       0.000000       0.00000   1196.000000   \n",
       "25%        1.000000      1.000000     224.000000     102.00000   1940.000000   \n",
       "50%        2.000000      2.000000     521.000000     136.00000   1970.000000   \n",
       "75%        2.000000      2.000000     670.000000     188.00000   2000.000000   \n",
       "max       12.000000     26.000000  433014.000000   44515.00000   2106.000000   \n",
       "\n",
       "          Lattitude    Longtitude  Propertycount  \n",
       "count  26881.000000  26881.000000   34854.000000  \n",
       "mean     -37.810634    145.001851    7572.888306  \n",
       "std        0.090279      0.120169    4428.090313  \n",
       "min      -38.190430    144.423790      83.000000  \n",
       "25%      -37.862950    144.933500    4385.000000  \n",
       "50%      -37.807600    145.007800    6763.000000  \n",
       "75%      -37.754100    145.071900   10412.000000  \n",
       "max      -37.390200    145.526350   21650.000000  "
      ]
     },
     "execution_count": 8,
     "metadata": {},
     "output_type": "execute_result"
    }
   ],
   "source": [
    "df.describe()"
   ]
  },
  {
   "cell_type": "code",
   "execution_count": null,
   "id": "3274a2fb",
   "metadata": {},
   "outputs": [],
   "source": []
  },
  {
   "cell_type": "markdown",
   "id": "054dca0c",
   "metadata": {},
   "source": [
    "4) Drop address, date, postcode, YearBuilt, lattitude, longtitude columns"
   ]
  },
  {
   "cell_type": "code",
   "execution_count": 9,
   "id": "2bd29647",
   "metadata": {},
   "outputs": [
    {
     "data": {
      "text/html": [
       "<div>\n",
       "<style scoped>\n",
       "    .dataframe tbody tr th:only-of-type {\n",
       "        vertical-align: middle;\n",
       "    }\n",
       "\n",
       "    .dataframe tbody tr th {\n",
       "        vertical-align: top;\n",
       "    }\n",
       "\n",
       "    .dataframe thead th {\n",
       "        text-align: right;\n",
       "    }\n",
       "</style>\n",
       "<table border=\"1\" class=\"dataframe\">\n",
       "  <thead>\n",
       "    <tr style=\"text-align: right;\">\n",
       "      <th></th>\n",
       "      <th>Suburb</th>\n",
       "      <th>Rooms</th>\n",
       "      <th>Type</th>\n",
       "      <th>Price</th>\n",
       "      <th>Method</th>\n",
       "      <th>SellerG</th>\n",
       "      <th>Distance</th>\n",
       "      <th>Bedroom2</th>\n",
       "      <th>Bathroom</th>\n",
       "      <th>Car</th>\n",
       "      <th>Landsize</th>\n",
       "      <th>BuildingArea</th>\n",
       "      <th>CouncilArea</th>\n",
       "      <th>Regionname</th>\n",
       "      <th>Propertycount</th>\n",
       "    </tr>\n",
       "  </thead>\n",
       "  <tbody>\n",
       "    <tr>\n",
       "      <th>0</th>\n",
       "      <td>Abbotsford</td>\n",
       "      <td>2</td>\n",
       "      <td>h</td>\n",
       "      <td>NaN</td>\n",
       "      <td>SS</td>\n",
       "      <td>Jellis</td>\n",
       "      <td>2.5</td>\n",
       "      <td>2.0</td>\n",
       "      <td>1.0</td>\n",
       "      <td>1.0</td>\n",
       "      <td>126.0</td>\n",
       "      <td>NaN</td>\n",
       "      <td>Yarra City Council</td>\n",
       "      <td>Northern Metropolitan</td>\n",
       "      <td>4019.0</td>\n",
       "    </tr>\n",
       "    <tr>\n",
       "      <th>1</th>\n",
       "      <td>Abbotsford</td>\n",
       "      <td>2</td>\n",
       "      <td>h</td>\n",
       "      <td>1480000.0</td>\n",
       "      <td>S</td>\n",
       "      <td>Biggin</td>\n",
       "      <td>2.5</td>\n",
       "      <td>2.0</td>\n",
       "      <td>1.0</td>\n",
       "      <td>1.0</td>\n",
       "      <td>202.0</td>\n",
       "      <td>NaN</td>\n",
       "      <td>Yarra City Council</td>\n",
       "      <td>Northern Metropolitan</td>\n",
       "      <td>4019.0</td>\n",
       "    </tr>\n",
       "    <tr>\n",
       "      <th>2</th>\n",
       "      <td>Abbotsford</td>\n",
       "      <td>2</td>\n",
       "      <td>h</td>\n",
       "      <td>1035000.0</td>\n",
       "      <td>S</td>\n",
       "      <td>Biggin</td>\n",
       "      <td>2.5</td>\n",
       "      <td>2.0</td>\n",
       "      <td>1.0</td>\n",
       "      <td>0.0</td>\n",
       "      <td>156.0</td>\n",
       "      <td>79.0</td>\n",
       "      <td>Yarra City Council</td>\n",
       "      <td>Northern Metropolitan</td>\n",
       "      <td>4019.0</td>\n",
       "    </tr>\n",
       "    <tr>\n",
       "      <th>3</th>\n",
       "      <td>Abbotsford</td>\n",
       "      <td>3</td>\n",
       "      <td>u</td>\n",
       "      <td>NaN</td>\n",
       "      <td>VB</td>\n",
       "      <td>Rounds</td>\n",
       "      <td>2.5</td>\n",
       "      <td>3.0</td>\n",
       "      <td>2.0</td>\n",
       "      <td>1.0</td>\n",
       "      <td>0.0</td>\n",
       "      <td>NaN</td>\n",
       "      <td>Yarra City Council</td>\n",
       "      <td>Northern Metropolitan</td>\n",
       "      <td>4019.0</td>\n",
       "    </tr>\n",
       "    <tr>\n",
       "      <th>4</th>\n",
       "      <td>Abbotsford</td>\n",
       "      <td>3</td>\n",
       "      <td>h</td>\n",
       "      <td>1465000.0</td>\n",
       "      <td>SP</td>\n",
       "      <td>Biggin</td>\n",
       "      <td>2.5</td>\n",
       "      <td>3.0</td>\n",
       "      <td>2.0</td>\n",
       "      <td>0.0</td>\n",
       "      <td>134.0</td>\n",
       "      <td>150.0</td>\n",
       "      <td>Yarra City Council</td>\n",
       "      <td>Northern Metropolitan</td>\n",
       "      <td>4019.0</td>\n",
       "    </tr>\n",
       "  </tbody>\n",
       "</table>\n",
       "</div>"
      ],
      "text/plain": [
       "       Suburb  Rooms Type      Price Method SellerG  Distance  Bedroom2  \\\n",
       "0  Abbotsford      2    h        NaN     SS  Jellis       2.5       2.0   \n",
       "1  Abbotsford      2    h  1480000.0      S  Biggin       2.5       2.0   \n",
       "2  Abbotsford      2    h  1035000.0      S  Biggin       2.5       2.0   \n",
       "3  Abbotsford      3    u        NaN     VB  Rounds       2.5       3.0   \n",
       "4  Abbotsford      3    h  1465000.0     SP  Biggin       2.5       3.0   \n",
       "\n",
       "   Bathroom  Car  Landsize  BuildingArea         CouncilArea  \\\n",
       "0       1.0  1.0     126.0           NaN  Yarra City Council   \n",
       "1       1.0  1.0     202.0           NaN  Yarra City Council   \n",
       "2       1.0  0.0     156.0          79.0  Yarra City Council   \n",
       "3       2.0  1.0       0.0           NaN  Yarra City Council   \n",
       "4       2.0  0.0     134.0         150.0  Yarra City Council   \n",
       "\n",
       "              Regionname  Propertycount  \n",
       "0  Northern Metropolitan         4019.0  \n",
       "1  Northern Metropolitan         4019.0  \n",
       "2  Northern Metropolitan         4019.0  \n",
       "3  Northern Metropolitan         4019.0  \n",
       "4  Northern Metropolitan         4019.0  "
      ]
     },
     "execution_count": 9,
     "metadata": {},
     "output_type": "execute_result"
    }
   ],
   "source": [
    "df.drop([\"Address\",\"Date\",\"Postcode\",\"YearBuilt\",\"Lattitude\",\"Longtitude\"],axis=1,inplace=True)\n",
    "df.head()"
   ]
  },
  {
   "cell_type": "code",
   "execution_count": null,
   "id": "2452f9d9",
   "metadata": {},
   "outputs": [],
   "source": []
  },
  {
   "cell_type": "markdown",
   "id": "8c390688",
   "metadata": {},
   "source": [
    "5) Find the count of null value in each column"
   ]
  },
  {
   "cell_type": "code",
   "execution_count": 10,
   "id": "33ebeede",
   "metadata": {},
   "outputs": [
    {
     "data": {
      "text/plain": [
       "Suburb               0\n",
       "Rooms                0\n",
       "Type                 0\n",
       "Price             7610\n",
       "Method               0\n",
       "SellerG              0\n",
       "Distance             1\n",
       "Bedroom2          8217\n",
       "Bathroom          8226\n",
       "Car               8728\n",
       "Landsize         11810\n",
       "BuildingArea     21115\n",
       "CouncilArea          3\n",
       "Regionname           3\n",
       "Propertycount        3\n",
       "dtype: int64"
      ]
     },
     "execution_count": 10,
     "metadata": {},
     "output_type": "execute_result"
    }
   ],
   "source": [
    "df.isnull().sum()"
   ]
  },
  {
   "cell_type": "code",
   "execution_count": null,
   "id": "edb78f7a",
   "metadata": {},
   "outputs": [],
   "source": []
  },
  {
   "cell_type": "markdown",
   "id": "26ff06e6",
   "metadata": {},
   "source": [
    "6) Fill the null value of property count, distance, Bedroom2, Bathroom, Car with 0"
   ]
  },
  {
   "cell_type": "code",
   "execution_count": 11,
   "id": "b4f8189c",
   "metadata": {},
   "outputs": [],
   "source": [
    "df[[\"Propertycount\",\"Distance\",\"Bedroom2\",\"Bathroom\",\"Car\"]]=df[[\"Propertycount\",\"Distance\",\"Bedroom2\",\"Bathroom\",\"Car\"]].fillna(0)"
   ]
  },
  {
   "cell_type": "code",
   "execution_count": 12,
   "id": "1732fd20",
   "metadata": {},
   "outputs": [
    {
     "data": {
      "text/plain": [
       "Suburb               0\n",
       "Rooms                0\n",
       "Type                 0\n",
       "Price             7610\n",
       "Method               0\n",
       "SellerG              0\n",
       "Distance             0\n",
       "Bedroom2             0\n",
       "Bathroom             0\n",
       "Car                  0\n",
       "Landsize         11810\n",
       "BuildingArea     21115\n",
       "CouncilArea          3\n",
       "Regionname           3\n",
       "Propertycount        0\n",
       "dtype: int64"
      ]
     },
     "execution_count": 12,
     "metadata": {},
     "output_type": "execute_result"
    }
   ],
   "source": [
    "df.isnull().sum()"
   ]
  },
  {
   "cell_type": "code",
   "execution_count": null,
   "id": "7e7f446a",
   "metadata": {},
   "outputs": [],
   "source": []
  },
  {
   "cell_type": "markdown",
   "id": "640eea7f",
   "metadata": {},
   "source": [
    "7) Fill Null value of land size and bidding area columns with Mean"
   ]
  },
  {
   "cell_type": "code",
   "execution_count": 13,
   "id": "cfda7048",
   "metadata": {},
   "outputs": [],
   "source": [
    "df[\"Landsize\"]=df[\"Landsize\"].fillna(df.Landsize.mean())"
   ]
  },
  {
   "cell_type": "code",
   "execution_count": 14,
   "id": "ed4be1c8",
   "metadata": {},
   "outputs": [],
   "source": [
    "df[\"BuildingArea\"]=df[\"BuildingArea\"].fillna(df.BuildingArea.mean())"
   ]
  },
  {
   "cell_type": "code",
   "execution_count": 15,
   "id": "d37b46c9",
   "metadata": {},
   "outputs": [],
   "source": [
    "df.dropna(inplace=True)"
   ]
  },
  {
   "cell_type": "code",
   "execution_count": 16,
   "id": "4d1a77a4",
   "metadata": {},
   "outputs": [
    {
     "data": {
      "text/plain": [
       "Suburb           0\n",
       "Rooms            0\n",
       "Type             0\n",
       "Price            0\n",
       "Method           0\n",
       "SellerG          0\n",
       "Distance         0\n",
       "Bedroom2         0\n",
       "Bathroom         0\n",
       "Car              0\n",
       "Landsize         0\n",
       "BuildingArea     0\n",
       "CouncilArea      0\n",
       "Regionname       0\n",
       "Propertycount    0\n",
       "dtype: int64"
      ]
     },
     "execution_count": 16,
     "metadata": {},
     "output_type": "execute_result"
    }
   ],
   "source": [
    "df.isnull().sum()"
   ]
  },
  {
   "cell_type": "code",
   "execution_count": null,
   "id": "d23e8462",
   "metadata": {},
   "outputs": [],
   "source": []
  },
  {
   "cell_type": "markdown",
   "id": "fd49dc88",
   "metadata": {},
   "source": [
    "8) Find the unique value in method column"
   ]
  },
  {
   "cell_type": "code",
   "execution_count": 19,
   "id": "9d5a39da",
   "metadata": {},
   "outputs": [
    {
     "data": {
      "text/plain": [
       "array(['S', 'SP', 'PI', 'VB', 'SA'], dtype=object)"
      ]
     },
     "execution_count": 19,
     "metadata": {},
     "output_type": "execute_result"
    }
   ],
   "source": [
    "df[\"Method\"].unique()"
   ]
  },
  {
   "cell_type": "code",
   "execution_count": null,
   "id": "68f6c8ee",
   "metadata": {},
   "outputs": [],
   "source": []
  },
  {
   "cell_type": "markdown",
   "id": "eb27698c",
   "metadata": {},
   "source": [
    "9) Create a dummy data for categorical data"
   ]
  },
  {
   "cell_type": "code",
   "execution_count": 20,
   "id": "6f1820bd",
   "metadata": {},
   "outputs": [
    {
     "data": {
      "text/html": [
       "<div>\n",
       "<style scoped>\n",
       "    .dataframe tbody tr th:only-of-type {\n",
       "        vertical-align: middle;\n",
       "    }\n",
       "\n",
       "    .dataframe tbody tr th {\n",
       "        vertical-align: top;\n",
       "    }\n",
       "\n",
       "    .dataframe thead th {\n",
       "        text-align: right;\n",
       "    }\n",
       "</style>\n",
       "<table border=\"1\" class=\"dataframe\">\n",
       "  <thead>\n",
       "    <tr style=\"text-align: right;\">\n",
       "      <th></th>\n",
       "      <th>Suburb</th>\n",
       "      <th>Rooms</th>\n",
       "      <th>Type</th>\n",
       "      <th>Price</th>\n",
       "      <th>Method</th>\n",
       "      <th>SellerG</th>\n",
       "      <th>Distance</th>\n",
       "      <th>Bedroom2</th>\n",
       "      <th>Bathroom</th>\n",
       "      <th>Car</th>\n",
       "      <th>Landsize</th>\n",
       "      <th>BuildingArea</th>\n",
       "      <th>CouncilArea</th>\n",
       "      <th>Regionname</th>\n",
       "      <th>Propertycount</th>\n",
       "    </tr>\n",
       "  </thead>\n",
       "  <tbody>\n",
       "    <tr>\n",
       "      <th>1</th>\n",
       "      <td>Abbotsford</td>\n",
       "      <td>2</td>\n",
       "      <td>h</td>\n",
       "      <td>1480000.0</td>\n",
       "      <td>S</td>\n",
       "      <td>Biggin</td>\n",
       "      <td>2.5</td>\n",
       "      <td>2.0</td>\n",
       "      <td>1.0</td>\n",
       "      <td>1.0</td>\n",
       "      <td>202.0</td>\n",
       "      <td>160.2564</td>\n",
       "      <td>Yarra City Council</td>\n",
       "      <td>Northern Metropolitan</td>\n",
       "      <td>4019.0</td>\n",
       "    </tr>\n",
       "    <tr>\n",
       "      <th>2</th>\n",
       "      <td>Abbotsford</td>\n",
       "      <td>2</td>\n",
       "      <td>h</td>\n",
       "      <td>1035000.0</td>\n",
       "      <td>S</td>\n",
       "      <td>Biggin</td>\n",
       "      <td>2.5</td>\n",
       "      <td>2.0</td>\n",
       "      <td>1.0</td>\n",
       "      <td>0.0</td>\n",
       "      <td>156.0</td>\n",
       "      <td>79.0000</td>\n",
       "      <td>Yarra City Council</td>\n",
       "      <td>Northern Metropolitan</td>\n",
       "      <td>4019.0</td>\n",
       "    </tr>\n",
       "    <tr>\n",
       "      <th>4</th>\n",
       "      <td>Abbotsford</td>\n",
       "      <td>3</td>\n",
       "      <td>h</td>\n",
       "      <td>1465000.0</td>\n",
       "      <td>SP</td>\n",
       "      <td>Biggin</td>\n",
       "      <td>2.5</td>\n",
       "      <td>3.0</td>\n",
       "      <td>2.0</td>\n",
       "      <td>0.0</td>\n",
       "      <td>134.0</td>\n",
       "      <td>150.0000</td>\n",
       "      <td>Yarra City Council</td>\n",
       "      <td>Northern Metropolitan</td>\n",
       "      <td>4019.0</td>\n",
       "    </tr>\n",
       "    <tr>\n",
       "      <th>5</th>\n",
       "      <td>Abbotsford</td>\n",
       "      <td>3</td>\n",
       "      <td>h</td>\n",
       "      <td>850000.0</td>\n",
       "      <td>PI</td>\n",
       "      <td>Biggin</td>\n",
       "      <td>2.5</td>\n",
       "      <td>3.0</td>\n",
       "      <td>2.0</td>\n",
       "      <td>1.0</td>\n",
       "      <td>94.0</td>\n",
       "      <td>160.2564</td>\n",
       "      <td>Yarra City Council</td>\n",
       "      <td>Northern Metropolitan</td>\n",
       "      <td>4019.0</td>\n",
       "    </tr>\n",
       "    <tr>\n",
       "      <th>6</th>\n",
       "      <td>Abbotsford</td>\n",
       "      <td>4</td>\n",
       "      <td>h</td>\n",
       "      <td>1600000.0</td>\n",
       "      <td>VB</td>\n",
       "      <td>Nelson</td>\n",
       "      <td>2.5</td>\n",
       "      <td>3.0</td>\n",
       "      <td>1.0</td>\n",
       "      <td>2.0</td>\n",
       "      <td>120.0</td>\n",
       "      <td>142.0000</td>\n",
       "      <td>Yarra City Council</td>\n",
       "      <td>Northern Metropolitan</td>\n",
       "      <td>4019.0</td>\n",
       "    </tr>\n",
       "  </tbody>\n",
       "</table>\n",
       "</div>"
      ],
      "text/plain": [
       "       Suburb  Rooms Type      Price Method SellerG  Distance  Bedroom2  \\\n",
       "1  Abbotsford      2    h  1480000.0      S  Biggin       2.5       2.0   \n",
       "2  Abbotsford      2    h  1035000.0      S  Biggin       2.5       2.0   \n",
       "4  Abbotsford      3    h  1465000.0     SP  Biggin       2.5       3.0   \n",
       "5  Abbotsford      3    h   850000.0     PI  Biggin       2.5       3.0   \n",
       "6  Abbotsford      4    h  1600000.0     VB  Nelson       2.5       3.0   \n",
       "\n",
       "   Bathroom  Car  Landsize  BuildingArea         CouncilArea  \\\n",
       "1       1.0  1.0     202.0      160.2564  Yarra City Council   \n",
       "2       1.0  0.0     156.0       79.0000  Yarra City Council   \n",
       "4       2.0  0.0     134.0      150.0000  Yarra City Council   \n",
       "5       2.0  1.0      94.0      160.2564  Yarra City Council   \n",
       "6       1.0  2.0     120.0      142.0000  Yarra City Council   \n",
       "\n",
       "              Regionname  Propertycount  \n",
       "1  Northern Metropolitan         4019.0  \n",
       "2  Northern Metropolitan         4019.0  \n",
       "4  Northern Metropolitan         4019.0  \n",
       "5  Northern Metropolitan         4019.0  \n",
       "6  Northern Metropolitan         4019.0  "
      ]
     },
     "execution_count": 20,
     "metadata": {},
     "output_type": "execute_result"
    }
   ],
   "source": [
    "df.head()"
   ]
  },
  {
   "cell_type": "code",
   "execution_count": 21,
   "id": "69f4402a",
   "metadata": {},
   "outputs": [],
   "source": [
    "df=pd.get_dummies(df)"
   ]
  },
  {
   "cell_type": "code",
   "execution_count": 22,
   "id": "656e00cc",
   "metadata": {},
   "outputs": [
    {
     "data": {
      "text/html": [
       "<div>\n",
       "<style scoped>\n",
       "    .dataframe tbody tr th:only-of-type {\n",
       "        vertical-align: middle;\n",
       "    }\n",
       "\n",
       "    .dataframe tbody tr th {\n",
       "        vertical-align: top;\n",
       "    }\n",
       "\n",
       "    .dataframe thead th {\n",
       "        text-align: right;\n",
       "    }\n",
       "</style>\n",
       "<table border=\"1\" class=\"dataframe\">\n",
       "  <thead>\n",
       "    <tr style=\"text-align: right;\">\n",
       "      <th></th>\n",
       "      <th>Rooms</th>\n",
       "      <th>Price</th>\n",
       "      <th>Distance</th>\n",
       "      <th>Bedroom2</th>\n",
       "      <th>Bathroom</th>\n",
       "      <th>Car</th>\n",
       "      <th>Landsize</th>\n",
       "      <th>BuildingArea</th>\n",
       "      <th>Propertycount</th>\n",
       "      <th>Suburb_Abbotsford</th>\n",
       "      <th>...</th>\n",
       "      <th>CouncilArea_Yarra City Council</th>\n",
       "      <th>CouncilArea_Yarra Ranges Shire Council</th>\n",
       "      <th>Regionname_Eastern Metropolitan</th>\n",
       "      <th>Regionname_Eastern Victoria</th>\n",
       "      <th>Regionname_Northern Metropolitan</th>\n",
       "      <th>Regionname_Northern Victoria</th>\n",
       "      <th>Regionname_South-Eastern Metropolitan</th>\n",
       "      <th>Regionname_Southern Metropolitan</th>\n",
       "      <th>Regionname_Western Metropolitan</th>\n",
       "      <th>Regionname_Western Victoria</th>\n",
       "    </tr>\n",
       "  </thead>\n",
       "  <tbody>\n",
       "    <tr>\n",
       "      <th>1</th>\n",
       "      <td>2</td>\n",
       "      <td>1480000.0</td>\n",
       "      <td>2.5</td>\n",
       "      <td>2.0</td>\n",
       "      <td>1.0</td>\n",
       "      <td>1.0</td>\n",
       "      <td>202.0</td>\n",
       "      <td>160.2564</td>\n",
       "      <td>4019.0</td>\n",
       "      <td>1</td>\n",
       "      <td>...</td>\n",
       "      <td>1</td>\n",
       "      <td>0</td>\n",
       "      <td>0</td>\n",
       "      <td>0</td>\n",
       "      <td>1</td>\n",
       "      <td>0</td>\n",
       "      <td>0</td>\n",
       "      <td>0</td>\n",
       "      <td>0</td>\n",
       "      <td>0</td>\n",
       "    </tr>\n",
       "    <tr>\n",
       "      <th>2</th>\n",
       "      <td>2</td>\n",
       "      <td>1035000.0</td>\n",
       "      <td>2.5</td>\n",
       "      <td>2.0</td>\n",
       "      <td>1.0</td>\n",
       "      <td>0.0</td>\n",
       "      <td>156.0</td>\n",
       "      <td>79.0000</td>\n",
       "      <td>4019.0</td>\n",
       "      <td>1</td>\n",
       "      <td>...</td>\n",
       "      <td>1</td>\n",
       "      <td>0</td>\n",
       "      <td>0</td>\n",
       "      <td>0</td>\n",
       "      <td>1</td>\n",
       "      <td>0</td>\n",
       "      <td>0</td>\n",
       "      <td>0</td>\n",
       "      <td>0</td>\n",
       "      <td>0</td>\n",
       "    </tr>\n",
       "    <tr>\n",
       "      <th>4</th>\n",
       "      <td>3</td>\n",
       "      <td>1465000.0</td>\n",
       "      <td>2.5</td>\n",
       "      <td>3.0</td>\n",
       "      <td>2.0</td>\n",
       "      <td>0.0</td>\n",
       "      <td>134.0</td>\n",
       "      <td>150.0000</td>\n",
       "      <td>4019.0</td>\n",
       "      <td>1</td>\n",
       "      <td>...</td>\n",
       "      <td>1</td>\n",
       "      <td>0</td>\n",
       "      <td>0</td>\n",
       "      <td>0</td>\n",
       "      <td>1</td>\n",
       "      <td>0</td>\n",
       "      <td>0</td>\n",
       "      <td>0</td>\n",
       "      <td>0</td>\n",
       "      <td>0</td>\n",
       "    </tr>\n",
       "    <tr>\n",
       "      <th>5</th>\n",
       "      <td>3</td>\n",
       "      <td>850000.0</td>\n",
       "      <td>2.5</td>\n",
       "      <td>3.0</td>\n",
       "      <td>2.0</td>\n",
       "      <td>1.0</td>\n",
       "      <td>94.0</td>\n",
       "      <td>160.2564</td>\n",
       "      <td>4019.0</td>\n",
       "      <td>1</td>\n",
       "      <td>...</td>\n",
       "      <td>1</td>\n",
       "      <td>0</td>\n",
       "      <td>0</td>\n",
       "      <td>0</td>\n",
       "      <td>1</td>\n",
       "      <td>0</td>\n",
       "      <td>0</td>\n",
       "      <td>0</td>\n",
       "      <td>0</td>\n",
       "      <td>0</td>\n",
       "    </tr>\n",
       "    <tr>\n",
       "      <th>6</th>\n",
       "      <td>4</td>\n",
       "      <td>1600000.0</td>\n",
       "      <td>2.5</td>\n",
       "      <td>3.0</td>\n",
       "      <td>1.0</td>\n",
       "      <td>2.0</td>\n",
       "      <td>120.0</td>\n",
       "      <td>142.0000</td>\n",
       "      <td>4019.0</td>\n",
       "      <td>1</td>\n",
       "      <td>...</td>\n",
       "      <td>1</td>\n",
       "      <td>0</td>\n",
       "      <td>0</td>\n",
       "      <td>0</td>\n",
       "      <td>1</td>\n",
       "      <td>0</td>\n",
       "      <td>0</td>\n",
       "      <td>0</td>\n",
       "      <td>0</td>\n",
       "      <td>0</td>\n",
       "    </tr>\n",
       "  </tbody>\n",
       "</table>\n",
       "<p>5 rows × 751 columns</p>\n",
       "</div>"
      ],
      "text/plain": [
       "   Rooms      Price  Distance  Bedroom2  Bathroom  Car  Landsize  \\\n",
       "1      2  1480000.0       2.5       2.0       1.0  1.0     202.0   \n",
       "2      2  1035000.0       2.5       2.0       1.0  0.0     156.0   \n",
       "4      3  1465000.0       2.5       3.0       2.0  0.0     134.0   \n",
       "5      3   850000.0       2.5       3.0       2.0  1.0      94.0   \n",
       "6      4  1600000.0       2.5       3.0       1.0  2.0     120.0   \n",
       "\n",
       "   BuildingArea  Propertycount  Suburb_Abbotsford  ...  \\\n",
       "1      160.2564         4019.0                  1  ...   \n",
       "2       79.0000         4019.0                  1  ...   \n",
       "4      150.0000         4019.0                  1  ...   \n",
       "5      160.2564         4019.0                  1  ...   \n",
       "6      142.0000         4019.0                  1  ...   \n",
       "\n",
       "   CouncilArea_Yarra City Council  CouncilArea_Yarra Ranges Shire Council  \\\n",
       "1                               1                                       0   \n",
       "2                               1                                       0   \n",
       "4                               1                                       0   \n",
       "5                               1                                       0   \n",
       "6                               1                                       0   \n",
       "\n",
       "   Regionname_Eastern Metropolitan  Regionname_Eastern Victoria  \\\n",
       "1                                0                            0   \n",
       "2                                0                            0   \n",
       "4                                0                            0   \n",
       "5                                0                            0   \n",
       "6                                0                            0   \n",
       "\n",
       "   Regionname_Northern Metropolitan  Regionname_Northern Victoria  \\\n",
       "1                                 1                             0   \n",
       "2                                 1                             0   \n",
       "4                                 1                             0   \n",
       "5                                 1                             0   \n",
       "6                                 1                             0   \n",
       "\n",
       "   Regionname_South-Eastern Metropolitan  Regionname_Southern Metropolitan  \\\n",
       "1                                      0                                 0   \n",
       "2                                      0                                 0   \n",
       "4                                      0                                 0   \n",
       "5                                      0                                 0   \n",
       "6                                      0                                 0   \n",
       "\n",
       "   Regionname_Western Metropolitan  Regionname_Western Victoria  \n",
       "1                                0                            0  \n",
       "2                                0                            0  \n",
       "4                                0                            0  \n",
       "5                                0                            0  \n",
       "6                                0                            0  \n",
       "\n",
       "[5 rows x 751 columns]"
      ]
     },
     "execution_count": 22,
     "metadata": {},
     "output_type": "execute_result"
    }
   ],
   "source": [
    "df.head()"
   ]
  },
  {
   "cell_type": "code",
   "execution_count": null,
   "id": "bb1a6782",
   "metadata": {},
   "outputs": [],
   "source": []
  },
  {
   "cell_type": "code",
   "execution_count": null,
   "id": "af8f24ce",
   "metadata": {},
   "outputs": [],
   "source": []
  },
  {
   "cell_type": "markdown",
   "id": "516a7ab5",
   "metadata": {},
   "source": [
    "# Part-2: Working with Model"
   ]
  },
  {
   "cell_type": "code",
   "execution_count": null,
   "id": "ed4d9351",
   "metadata": {},
   "outputs": [],
   "source": []
  },
  {
   "cell_type": "markdown",
   "id": "1b4c8f5b",
   "metadata": {},
   "source": [
    "1) Create the target data and feature data where target data is price"
   ]
  },
  {
   "cell_type": "code",
   "execution_count": 32,
   "id": "2793bab8",
   "metadata": {},
   "outputs": [
    {
     "data": {
      "text/html": [
       "<div>\n",
       "<style scoped>\n",
       "    .dataframe tbody tr th:only-of-type {\n",
       "        vertical-align: middle;\n",
       "    }\n",
       "\n",
       "    .dataframe tbody tr th {\n",
       "        vertical-align: top;\n",
       "    }\n",
       "\n",
       "    .dataframe thead th {\n",
       "        text-align: right;\n",
       "    }\n",
       "</style>\n",
       "<table border=\"1\" class=\"dataframe\">\n",
       "  <thead>\n",
       "    <tr style=\"text-align: right;\">\n",
       "      <th></th>\n",
       "      <th>Rooms</th>\n",
       "      <th>Distance</th>\n",
       "      <th>Bedroom2</th>\n",
       "      <th>Bathroom</th>\n",
       "      <th>Car</th>\n",
       "      <th>Landsize</th>\n",
       "      <th>BuildingArea</th>\n",
       "      <th>Propertycount</th>\n",
       "      <th>Suburb_Abbotsford</th>\n",
       "      <th>Suburb_Aberfeldie</th>\n",
       "      <th>...</th>\n",
       "      <th>CouncilArea_Yarra City Council</th>\n",
       "      <th>CouncilArea_Yarra Ranges Shire Council</th>\n",
       "      <th>Regionname_Eastern Metropolitan</th>\n",
       "      <th>Regionname_Eastern Victoria</th>\n",
       "      <th>Regionname_Northern Metropolitan</th>\n",
       "      <th>Regionname_Northern Victoria</th>\n",
       "      <th>Regionname_South-Eastern Metropolitan</th>\n",
       "      <th>Regionname_Southern Metropolitan</th>\n",
       "      <th>Regionname_Western Metropolitan</th>\n",
       "      <th>Regionname_Western Victoria</th>\n",
       "    </tr>\n",
       "  </thead>\n",
       "  <tbody>\n",
       "    <tr>\n",
       "      <th>1</th>\n",
       "      <td>2</td>\n",
       "      <td>2.5</td>\n",
       "      <td>2.0</td>\n",
       "      <td>1.0</td>\n",
       "      <td>1.0</td>\n",
       "      <td>202.0</td>\n",
       "      <td>160.2564</td>\n",
       "      <td>4019.0</td>\n",
       "      <td>1</td>\n",
       "      <td>0</td>\n",
       "      <td>...</td>\n",
       "      <td>1</td>\n",
       "      <td>0</td>\n",
       "      <td>0</td>\n",
       "      <td>0</td>\n",
       "      <td>1</td>\n",
       "      <td>0</td>\n",
       "      <td>0</td>\n",
       "      <td>0</td>\n",
       "      <td>0</td>\n",
       "      <td>0</td>\n",
       "    </tr>\n",
       "    <tr>\n",
       "      <th>2</th>\n",
       "      <td>2</td>\n",
       "      <td>2.5</td>\n",
       "      <td>2.0</td>\n",
       "      <td>1.0</td>\n",
       "      <td>0.0</td>\n",
       "      <td>156.0</td>\n",
       "      <td>79.0000</td>\n",
       "      <td>4019.0</td>\n",
       "      <td>1</td>\n",
       "      <td>0</td>\n",
       "      <td>...</td>\n",
       "      <td>1</td>\n",
       "      <td>0</td>\n",
       "      <td>0</td>\n",
       "      <td>0</td>\n",
       "      <td>1</td>\n",
       "      <td>0</td>\n",
       "      <td>0</td>\n",
       "      <td>0</td>\n",
       "      <td>0</td>\n",
       "      <td>0</td>\n",
       "    </tr>\n",
       "    <tr>\n",
       "      <th>4</th>\n",
       "      <td>3</td>\n",
       "      <td>2.5</td>\n",
       "      <td>3.0</td>\n",
       "      <td>2.0</td>\n",
       "      <td>0.0</td>\n",
       "      <td>134.0</td>\n",
       "      <td>150.0000</td>\n",
       "      <td>4019.0</td>\n",
       "      <td>1</td>\n",
       "      <td>0</td>\n",
       "      <td>...</td>\n",
       "      <td>1</td>\n",
       "      <td>0</td>\n",
       "      <td>0</td>\n",
       "      <td>0</td>\n",
       "      <td>1</td>\n",
       "      <td>0</td>\n",
       "      <td>0</td>\n",
       "      <td>0</td>\n",
       "      <td>0</td>\n",
       "      <td>0</td>\n",
       "    </tr>\n",
       "    <tr>\n",
       "      <th>5</th>\n",
       "      <td>3</td>\n",
       "      <td>2.5</td>\n",
       "      <td>3.0</td>\n",
       "      <td>2.0</td>\n",
       "      <td>1.0</td>\n",
       "      <td>94.0</td>\n",
       "      <td>160.2564</td>\n",
       "      <td>4019.0</td>\n",
       "      <td>1</td>\n",
       "      <td>0</td>\n",
       "      <td>...</td>\n",
       "      <td>1</td>\n",
       "      <td>0</td>\n",
       "      <td>0</td>\n",
       "      <td>0</td>\n",
       "      <td>1</td>\n",
       "      <td>0</td>\n",
       "      <td>0</td>\n",
       "      <td>0</td>\n",
       "      <td>0</td>\n",
       "      <td>0</td>\n",
       "    </tr>\n",
       "    <tr>\n",
       "      <th>6</th>\n",
       "      <td>4</td>\n",
       "      <td>2.5</td>\n",
       "      <td>3.0</td>\n",
       "      <td>1.0</td>\n",
       "      <td>2.0</td>\n",
       "      <td>120.0</td>\n",
       "      <td>142.0000</td>\n",
       "      <td>4019.0</td>\n",
       "      <td>1</td>\n",
       "      <td>0</td>\n",
       "      <td>...</td>\n",
       "      <td>1</td>\n",
       "      <td>0</td>\n",
       "      <td>0</td>\n",
       "      <td>0</td>\n",
       "      <td>1</td>\n",
       "      <td>0</td>\n",
       "      <td>0</td>\n",
       "      <td>0</td>\n",
       "      <td>0</td>\n",
       "      <td>0</td>\n",
       "    </tr>\n",
       "  </tbody>\n",
       "</table>\n",
       "<p>5 rows × 750 columns</p>\n",
       "</div>"
      ],
      "text/plain": [
       "   Rooms  Distance  Bedroom2  Bathroom  Car  Landsize  BuildingArea  \\\n",
       "1      2       2.5       2.0       1.0  1.0     202.0      160.2564   \n",
       "2      2       2.5       2.0       1.0  0.0     156.0       79.0000   \n",
       "4      3       2.5       3.0       2.0  0.0     134.0      150.0000   \n",
       "5      3       2.5       3.0       2.0  1.0      94.0      160.2564   \n",
       "6      4       2.5       3.0       1.0  2.0     120.0      142.0000   \n",
       "\n",
       "   Propertycount  Suburb_Abbotsford  Suburb_Aberfeldie  ...  \\\n",
       "1         4019.0                  1                  0  ...   \n",
       "2         4019.0                  1                  0  ...   \n",
       "4         4019.0                  1                  0  ...   \n",
       "5         4019.0                  1                  0  ...   \n",
       "6         4019.0                  1                  0  ...   \n",
       "\n",
       "   CouncilArea_Yarra City Council  CouncilArea_Yarra Ranges Shire Council  \\\n",
       "1                               1                                       0   \n",
       "2                               1                                       0   \n",
       "4                               1                                       0   \n",
       "5                               1                                       0   \n",
       "6                               1                                       0   \n",
       "\n",
       "   Regionname_Eastern Metropolitan  Regionname_Eastern Victoria  \\\n",
       "1                                0                            0   \n",
       "2                                0                            0   \n",
       "4                                0                            0   \n",
       "5                                0                            0   \n",
       "6                                0                            0   \n",
       "\n",
       "   Regionname_Northern Metropolitan  Regionname_Northern Victoria  \\\n",
       "1                                 1                             0   \n",
       "2                                 1                             0   \n",
       "4                                 1                             0   \n",
       "5                                 1                             0   \n",
       "6                                 1                             0   \n",
       "\n",
       "   Regionname_South-Eastern Metropolitan  Regionname_Southern Metropolitan  \\\n",
       "1                                      0                                 0   \n",
       "2                                      0                                 0   \n",
       "4                                      0                                 0   \n",
       "5                                      0                                 0   \n",
       "6                                      0                                 0   \n",
       "\n",
       "   Regionname_Western Metropolitan  Regionname_Western Victoria  \n",
       "1                                0                            0  \n",
       "2                                0                            0  \n",
       "4                                0                            0  \n",
       "5                                0                            0  \n",
       "6                                0                            0  \n",
       "\n",
       "[5 rows x 750 columns]"
      ]
     },
     "execution_count": 32,
     "metadata": {},
     "output_type": "execute_result"
    }
   ],
   "source": [
    "X=df.drop(\"Price\",axis=1)\n",
    "X.head()"
   ]
  },
  {
   "cell_type": "code",
   "execution_count": 33,
   "id": "c67bd099",
   "metadata": {},
   "outputs": [
    {
     "data": {
      "text/plain": [
       "1    1480000.0\n",
       "2    1035000.0\n",
       "4    1465000.0\n",
       "5     850000.0\n",
       "6    1600000.0\n",
       "Name: Price, dtype: float64"
      ]
     },
     "execution_count": 33,
     "metadata": {},
     "output_type": "execute_result"
    }
   ],
   "source": [
    "Y=df[\"Price\"]\n",
    "Y.head()"
   ]
  },
  {
   "cell_type": "code",
   "execution_count": null,
   "id": "388111dd",
   "metadata": {},
   "outputs": [],
   "source": []
  },
  {
   "cell_type": "markdown",
   "id": "111b5145",
   "metadata": {},
   "source": [
    "2) Create a linear regression model for Target and feature data"
   ]
  },
  {
   "cell_type": "code",
   "execution_count": 34,
   "id": "3b925d30",
   "metadata": {},
   "outputs": [],
   "source": [
    "from sklearn.linear_model import LinearRegression"
   ]
  },
  {
   "cell_type": "code",
   "execution_count": 35,
   "id": "de42711f",
   "metadata": {},
   "outputs": [],
   "source": [
    "regression_model=LinearRegression()"
   ]
  },
  {
   "cell_type": "code",
   "execution_count": 36,
   "id": "fa81c7c6",
   "metadata": {},
   "outputs": [],
   "source": [
    "from sklearn.model_selection import train_test_split"
   ]
  },
  {
   "cell_type": "code",
   "execution_count": 37,
   "id": "2ed5bcec",
   "metadata": {},
   "outputs": [],
   "source": [
    "X_train, X_test, Y_train, Y_test = train_test_split(X,Y,test_size=0.3,random_state=5)"
   ]
  },
  {
   "cell_type": "code",
   "execution_count": 38,
   "id": "8d82294d",
   "metadata": {},
   "outputs": [
    {
     "data": {
      "text/plain": [
       "(19070, 750)"
      ]
     },
     "execution_count": 38,
     "metadata": {},
     "output_type": "execute_result"
    }
   ],
   "source": [
    "X_train.shape"
   ]
  },
  {
   "cell_type": "code",
   "execution_count": 39,
   "id": "6c746e4b",
   "metadata": {},
   "outputs": [
    {
     "data": {
      "text/plain": [
       "(8174, 750)"
      ]
     },
     "execution_count": 39,
     "metadata": {},
     "output_type": "execute_result"
    }
   ],
   "source": [
    "X_test.shape"
   ]
  },
  {
   "cell_type": "code",
   "execution_count": 40,
   "id": "c3e05dc9",
   "metadata": {},
   "outputs": [
    {
     "data": {
      "text/plain": [
       "LinearRegression()"
      ]
     },
     "execution_count": 40,
     "metadata": {},
     "output_type": "execute_result"
    }
   ],
   "source": [
    "regression_model.fit(X_train, Y_train)"
   ]
  },
  {
   "cell_type": "code",
   "execution_count": 41,
   "id": "3f771f98",
   "metadata": {},
   "outputs": [
    {
     "data": {
      "text/plain": [
       "array([2737419.1335693 , 1944077.27531536,  419079.69760294, ...,\n",
       "        480988.15830014,  500352.62179772, 1517109.23906329])"
      ]
     },
     "execution_count": 41,
     "metadata": {},
     "output_type": "execute_result"
    }
   ],
   "source": [
    "Predicted_Price=regression_model.predict(X_test)\n",
    "Predicted_Price"
   ]
  },
  {
   "cell_type": "code",
   "execution_count": 27,
   "id": "bef68556",
   "metadata": {},
   "outputs": [
    {
     "data": {
      "text/plain": [
       "21049    2750000.0\n",
       "17241    1170000.0\n",
       "19257     340000.0\n",
       "3823      510000.0\n",
       "20534    1010000.0\n",
       "           ...    \n",
       "17676    1016000.0\n",
       "26641     676500.0\n",
       "4372      350000.0\n",
       "6722      440000.0\n",
       "22449    1190000.0\n",
       "Name: Price, Length: 8174, dtype: float64"
      ]
     },
     "execution_count": 27,
     "metadata": {},
     "output_type": "execute_result"
    }
   ],
   "source": [
    "Y_test"
   ]
  },
  {
   "cell_type": "code",
   "execution_count": 42,
   "id": "4966d384",
   "metadata": {},
   "outputs": [
    {
     "data": {
      "text/plain": [
       "0.6086929919545001"
      ]
     },
     "execution_count": 42,
     "metadata": {},
     "output_type": "execute_result"
    }
   ],
   "source": [
    "regression_model.score(X_test, Y_test)"
   ]
  },
  {
   "cell_type": "code",
   "execution_count": 43,
   "id": "f302cf32",
   "metadata": {},
   "outputs": [
    {
     "data": {
      "text/plain": [
       "0.6816981387983212"
      ]
     },
     "execution_count": 43,
     "metadata": {},
     "output_type": "execute_result"
    }
   ],
   "source": [
    "regression_model.score(X_train, Y_train)"
   ]
  },
  {
   "cell_type": "code",
   "execution_count": null,
   "id": "a70f5d5a",
   "metadata": {},
   "outputs": [],
   "source": []
  },
  {
   "cell_type": "markdown",
   "id": "c96509d6",
   "metadata": {},
   "source": [
    "4) If the model is overfitting then apply ridge and lasso regression algorithms"
   ]
  },
  {
   "cell_type": "markdown",
   "id": "b140962d",
   "metadata": {},
   "source": [
    "Ridge Regression"
   ]
  },
  {
   "cell_type": "code",
   "execution_count": 44,
   "id": "be1691d2",
   "metadata": {},
   "outputs": [],
   "source": [
    "from sklearn.linear_model import Ridge"
   ]
  },
  {
   "cell_type": "code",
   "execution_count": 57,
   "id": "c5d78547",
   "metadata": {},
   "outputs": [],
   "source": [
    "ridge_reg = Ridge(alpha=0.5)"
   ]
  },
  {
   "cell_type": "code",
   "execution_count": 58,
   "id": "fc55376d",
   "metadata": {},
   "outputs": [
    {
     "data": {
      "text/plain": [
       "Ridge(alpha=0.5)"
      ]
     },
     "execution_count": 58,
     "metadata": {},
     "output_type": "execute_result"
    }
   ],
   "source": [
    "ridge_reg.fit(X_train, Y_train)"
   ]
  },
  {
   "cell_type": "code",
   "execution_count": 59,
   "id": "716f6032",
   "metadata": {},
   "outputs": [
    {
     "data": {
      "text/plain": [
       "0.6814299398686469"
      ]
     },
     "execution_count": 59,
     "metadata": {},
     "output_type": "execute_result"
    }
   ],
   "source": [
    "ridge_reg.score(X_train, Y_train)"
   ]
  },
  {
   "cell_type": "code",
   "execution_count": 60,
   "id": "387563b9",
   "metadata": {},
   "outputs": [
    {
     "data": {
      "text/plain": [
       "0.6091305462055403"
      ]
     },
     "execution_count": 60,
     "metadata": {},
     "output_type": "execute_result"
    }
   ],
   "source": [
    "ridge_reg.score(X_test, Y_test)"
   ]
  },
  {
   "cell_type": "code",
   "execution_count": null,
   "id": "46176166",
   "metadata": {},
   "outputs": [],
   "source": []
  },
  {
   "cell_type": "markdown",
   "id": "cc980c40",
   "metadata": {},
   "source": [
    "Lasso Regression"
   ]
  },
  {
   "cell_type": "code",
   "execution_count": 61,
   "id": "fe252321",
   "metadata": {},
   "outputs": [],
   "source": [
    "from sklearn.linear_model import Lasso"
   ]
  },
  {
   "cell_type": "code",
   "execution_count": 66,
   "id": "a701fd1c",
   "metadata": {},
   "outputs": [],
   "source": [
    "lasso_reg = Lasso(alpha=10)"
   ]
  },
  {
   "cell_type": "code",
   "execution_count": 67,
   "id": "cc2b7aaf",
   "metadata": {},
   "outputs": [
    {
     "name": "stderr",
     "output_type": "stream",
     "text": [
      "C:\\ProgramData\\Anaconda3\\lib\\site-packages\\sklearn\\linear_model\\_coordinate_descent.py:530: ConvergenceWarning: Objective did not converge. You might want to increase the number of iterations. Duality gap: 1226715637076665.8, tolerance: 762933337479.7468\n",
      "  model = cd_fast.enet_coordinate_descent(\n"
     ]
    },
    {
     "data": {
      "text/plain": [
       "Lasso(alpha=10)"
      ]
     },
     "execution_count": 67,
     "metadata": {},
     "output_type": "execute_result"
    }
   ],
   "source": [
    "lasso_reg.fit(X_train, Y_train)"
   ]
  },
  {
   "cell_type": "code",
   "execution_count": 68,
   "id": "0f072caf",
   "metadata": {},
   "outputs": [
    {
     "data": {
      "text/plain": [
       "0.6810506139374887"
      ]
     },
     "execution_count": 68,
     "metadata": {},
     "output_type": "execute_result"
    }
   ],
   "source": [
    "lasso_reg.score(X_train, Y_train)"
   ]
  },
  {
   "cell_type": "code",
   "execution_count": 69,
   "id": "a5d720e7",
   "metadata": {},
   "outputs": [
    {
     "data": {
      "text/plain": [
       "0.6091512021057919"
      ]
     },
     "execution_count": 69,
     "metadata": {},
     "output_type": "execute_result"
    }
   ],
   "source": [
    "lasso_reg.score(X_test, Y_test)"
   ]
  },
  {
   "cell_type": "code",
   "execution_count": null,
   "id": "ceac50be",
   "metadata": {},
   "outputs": [],
   "source": []
  },
  {
   "cell_type": "markdown",
   "id": "a716fac2",
   "metadata": {},
   "source": [
    "5) Extract slope and intercept value from the model"
   ]
  },
  {
   "cell_type": "code",
   "execution_count": 32,
   "id": "685b4a04",
   "metadata": {},
   "outputs": [
    {
     "data": {
      "text/plain": [
       "array([ 2.57961931e+05, -4.71037065e+04, -8.65065573e+04,  1.25499231e+05,\n",
       "        4.25659869e+04,  2.17944931e+00,  3.44168721e+02, -1.67439794e-01,\n",
       "       -1.00564630e+05,  1.79943705e+05, -4.55888039e+04, -1.41754084e+05,\n",
       "        2.67128495e+05,  1.16753398e+05,  1.47348431e+05,  1.94368305e+05,\n",
       "       -1.76591799e+05, -1.65930047e+05, -5.75520565e+04,  7.38132576e+04,\n",
       "       -1.02424443e+05, -9.51857287e+04, -2.28405404e+04,  8.61769448e+04,\n",
       "       -2.56675709e+05, -5.98147551e+04, -2.52958518e+05,  3.26566806e-07,\n",
       "       -1.52023769e+05,  1.48074286e+05,  3.37438047e+04,  9.19169548e+04,\n",
       "        6.32804907e+03,  1.82640615e+05,  2.48807680e+04,  1.84244988e+05,\n",
       "       -2.71675891e+05,  8.58604094e+04, -5.91542916e+03, -1.73398493e+04,\n",
       "        2.93826490e+05,  1.38532830e+05, -1.91588397e+05, -5.82810716e+04,\n",
       "        2.63031929e+05,  1.45119308e+05,  3.02526757e+05,  1.75983826e+05,\n",
       "       -1.13235944e+05, -3.40503043e+04,  3.24036799e+05, -1.16581590e+05,\n",
       "       -1.03512513e+05, -4.56103182e+04,  1.02515495e+05,  4.08510017e+04,\n",
       "        6.32254717e+03, -1.88892093e+04,  9.24421329e-06, -2.26037002e+05,\n",
       "        9.00369265e+04, -2.84897261e+04, -1.09985327e+05, -2.34651778e+05,\n",
       "       -3.00803040e+05, -5.54859692e+04, -5.39381044e+04, -7.04138272e+04,\n",
       "        8.66894785e+04, -1.68269751e+05,  3.90819792e+05,  7.56678752e+04,\n",
       "        2.47388489e+05,  2.30613837e+04, -1.94585133e+05,  3.70791715e+05,\n",
       "       -1.32489062e+05, -2.11517165e+05,  7.39346466e+03,  2.73569998e+04,\n",
       "        2.54416057e+04, -9.71503676e+04,  3.06337863e+05, -5.16514030e+04,\n",
       "       -2.04581388e+05, -1.46532101e+05, -3.36895558e+05,  9.70487495e+03,\n",
       "       -2.23164305e+05, -2.41278781e+04,  2.77212863e+05, -1.09948877e+05,\n",
       "       -2.08041265e+05, -1.21262881e+05, -9.77142535e+04, -1.15328838e+05,\n",
       "       -1.60291398e+04, -3.57789112e+04,  1.35326991e-06, -5.59504749e+04,\n",
       "        1.07986677e+04, -8.74022713e+04,  5.89735783e+04, -8.56879612e+04,\n",
       "       -5.99411128e+04,  7.90281053e+04, -3.05197917e+05,  5.65246655e+04,\n",
       "        1.97275188e+04,  2.91234755e-06,  4.37955260e+05, -3.86142534e+04,\n",
       "       -1.89683476e+04, -1.55147027e+05, -2.52678190e+05,  2.01382380e+05,\n",
       "       -1.54014447e+05, -2.54096154e+05, -3.01395530e+04, -8.80330160e+03,\n",
       "        9.72285995e+04, -3.35041848e+05, -2.61623331e+05,  4.01958073e+05,\n",
       "        2.39423955e+05,  2.58308509e+05,  8.33151132e+04,  6.08988374e+04,\n",
       "       -1.69231778e+05,  4.38333461e+04, -3.55990640e+05, -2.81374378e+05,\n",
       "       -1.42272036e+04,  1.12794510e+05,  6.24599271e+04, -3.86951339e+04,\n",
       "       -1.30079549e+05, -1.27527164e-06,  1.03693180e+05, -7.83965344e+04,\n",
       "        1.51560760e+05, -4.39799624e-06,  8.97900471e+04,  2.37511940e+05,\n",
       "       -1.35158810e+05, -4.02463262e+04, -8.89203165e+04,  2.46341396e+05,\n",
       "       -7.64018811e+04,  3.76574525e+05, -2.49127976e+05,  5.90565698e+04,\n",
       "        1.67266633e+05, -2.18653492e+05, -4.38386122e+04, -8.07441435e+04,\n",
       "        2.33926499e+05, -7.28623680e+04, -1.90215194e+05,  1.58421427e+05,\n",
       "        2.43670025e+04, -1.44195082e+05,  1.81323371e+05,  1.21632003e+05,\n",
       "       -2.51433007e+05, -5.14801514e+04, -2.78159079e+05, -1.19875663e+05,\n",
       "        4.84231182e+05, -1.61740120e+05,  7.33256570e+04, -5.31366673e+04,\n",
       "       -2.96499312e+05, -3.81940317e+05, -1.23695251e+05, -1.24641264e+04,\n",
       "        4.26446436e+04,  6.42085829e+04, -1.64356136e+05, -2.39601496e+05,\n",
       "        5.32177462e+04,  6.15189213e+05, -1.35710051e+05,  2.18024626e+05,\n",
       "       -1.56431491e+05,  1.52485732e+05, -2.61123812e+04,  8.06426648e+04,\n",
       "        4.18043291e+04, -7.13694742e+04, -1.11923265e+05, -5.70587374e+04,\n",
       "       -1.61651016e+05,  3.23261024e+04,  1.02888718e+05, -1.00890113e+05,\n",
       "       -1.25910876e+05,  3.11097753e+04, -2.18082155e+03, -3.81251758e+04,\n",
       "       -1.34628205e+05, -1.19149304e+05,  1.50387147e+05, -1.03207006e+04,\n",
       "       -1.37411687e+05,  3.73556357e+04,  1.32466529e+05,  2.60672823e-06,\n",
       "        1.27314271e+05, -6.57098267e+04,  3.66237744e+05, -4.83382744e+04,\n",
       "       -2.51231087e+04,  2.17757904e+05, -8.26702143e+04,  6.66946048e+03,\n",
       "        2.95248726e+04,  1.00819256e+05, -1.40504375e+05,  8.45953032e+04,\n",
       "        9.76532912e+04, -8.49706464e+04,  5.63950129e+05, -1.00706555e+05,\n",
       "        1.18146528e+05, -4.26277870e+03, -5.38121466e+04,  1.56175512e+04,\n",
       "       -2.86594455e+05,  7.27454683e+04, -1.53985359e+05, -1.64948913e+05,\n",
       "        1.12599116e+05, -8.59575743e+04,  9.47122150e+04,  2.77737181e+04,\n",
       "       -7.87413689e+03,  6.22130104e+04,  1.22813806e+05, -5.11125933e+04,\n",
       "        9.36758989e+04,  2.53118607e+04, -7.53828099e+04,  4.45344362e+05,\n",
       "        1.66796360e+05,  1.17487336e+04, -2.51925319e+04,  2.54774590e+04,\n",
       "        3.61455936e+04, -6.99270660e+03, -3.60894009e+05,  8.08510496e+04,\n",
       "        9.93154325e+04,  2.81343548e+05,  2.02017889e+05,  3.44952732e+05,\n",
       "       -5.67370439e+04,  1.89550482e+05,  4.55200310e+05,  2.35555162e+05,\n",
       "       -1.41552716e+05, -1.13634363e+04, -2.88593824e+05, -7.35497233e+04,\n",
       "        3.65118310e+05,  4.63106119e+04, -5.98716369e+04, -6.19058447e+04,\n",
       "        1.11359392e+05,  1.91828218e+04,  9.56347651e+04, -9.40496507e+04,\n",
       "       -1.48455205e+05,  6.01085962e+05, -1.43871509e+05, -1.53610031e+05,\n",
       "       -7.89592535e+04, -2.21618535e+05,  1.34924382e+05,  8.51317394e+04,\n",
       "       -1.53796998e+05,  1.53408736e+05, -3.07734999e+04,  8.79516819e+03,\n",
       "        3.49726079e+05, -1.79767512e+05, -7.01607781e+04, -1.93877613e+05,\n",
       "       -6.99637471e+04, -4.10834735e+04, -3.68531849e+05, -7.26787097e+04,\n",
       "       -9.52038998e+04, -1.13971646e+05,  9.64175571e+04, -2.35362891e+05,\n",
       "       -1.40823338e+05,  5.41348230e+04, -2.08811191e+05,  5.14903748e+05,\n",
       "        5.99747686e+04, -3.87712005e+04, -1.35384497e+05, -5.23992305e+03,\n",
       "        5.14610399e+04, -8.87583875e+03, -1.00856180e+05, -3.61477412e+04,\n",
       "       -6.23211194e+04,  1.14610495e+05, -1.80294177e+05,  1.99244718e+05,\n",
       "       -3.91636768e+04,  5.38074131e+04,  1.57795718e+05,  3.11118683e+03,\n",
       "       -7.03226137e+02,  7.73851341e+04, -2.14780029e+03, -7.67061890e+04,\n",
       "       -7.17101120e+04, -3.01265854e+05,  1.43066291e+05,  2.45116608e+05,\n",
       "       -3.01551336e+05, -2.70416891e+05,  2.43100754e+05, -2.40919663e+05,\n",
       "       -4.34433070e+04,  1.77881853e+05,  5.74661391e+03, -2.68619580e+05,\n",
       "       -1.17390718e+05, -1.78786339e+05, -6.41002142e+04,  4.01316426e+03,\n",
       "       -9.36770964e+04, -1.47884558e+05,  6.13504129e+04,  4.06703733e+05,\n",
       "       -2.41007826e+05,  3.15570995e+05,  5.91950574e+04, -1.85603946e+05,\n",
       "        1.18447335e+05,  8.43299698e+04,  3.83652337e+05,  3.14308934e+04,\n",
       "       -7.06938264e+04,  4.29212079e+04,  1.30037703e+03,  5.43492206e-06,\n",
       "        2.52237870e+05, -2.32087426e+04, -2.29029127e+05, -2.07605628e+04,\n",
       "        4.55409851e+04, -1.24421166e+04,  1.28148625e+04, -2.51531682e+04,\n",
       "       -8.75182266e+04, -1.44209950e+05,  5.60318710e+04,  2.04416173e+05,\n",
       "        3.93999327e+05, -3.45447172e+05,  4.55690950e+05,  6.33175457e+04,\n",
       "       -6.55156327e-07, -2.38445919e+05,  5.91313662e+04, -3.59118739e+05,\n",
       "        9.35545917e+04,  1.13177960e+05, -1.59582305e+05, -2.69224657e+05,\n",
       "        1.51097662e+04,  2.94591623e+05,  1.07202455e+05, -4.57249066e+04,\n",
       "        2.41020640e+05,  6.31239395e+04, -1.06030954e+04,  2.76651541e+05,\n",
       "       -1.34882520e+05,  3.65284221e+04, -1.05598932e+05,  1.08905600e+03,\n",
       "        1.91148610e+05, -1.48311536e+05, -4.75954890e+05, -4.52309905e-08,\n",
       "       -1.09120710e+04,  1.01287394e+05,  2.91103494e+04, -2.68057920e-06,\n",
       "        9.62591306e+04, -1.51283637e+05, -1.43170031e+05, -2.77964690e+05,\n",
       "       -1.12140819e+05,  1.12711021e+04,  3.15653858e+04,  1.51246843e+04,\n",
       "       -8.79357413e+04,  7.66845118e+04, -2.44518434e+05, -1.64328230e-06,\n",
       "        1.32236867e+04, -1.73007472e+05,  2.57965252e+05,  3.00960737e+05,\n",
       "       -1.74036382e+05, -7.15461090e+02, -2.39531124e+05,  5.66900615e+05,\n",
       "        2.06423468e+04,  8.31230733e+04,  7.64211813e+04,  2.24036353e+05,\n",
       "        1.27548221e+04, -2.43921224e+05,  6.21547910e+04, -3.32062797e+05,\n",
       "        7.81427928e+04, -3.05090631e+05,  1.11911677e+04, -2.08440583e+05,\n",
       "        2.30358111e+05, -1.17706779e+05,  1.23374145e+05,  4.84321669e+04,\n",
       "        1.29570537e+05,  5.95022822e+04,  5.79806510e-07, -1.00916923e+05,\n",
       "        5.33444108e-06, -7.11591337e+04,  2.82173361e+04, -6.26713152e+03,\n",
       "       -2.49411971e+04, -1.75990300e+05,  1.26561133e+06,  1.15974864e+05,\n",
       "       -1.50570236e+05,  6.08288637e+04, -1.36237820e+05,  3.17720696e-06,\n",
       "       -2.08274265e+05, -2.39870616e+05, -1.47829160e+05, -1.93926920e+04,\n",
       "        1.96973751e+04,  3.04061689e+05, -1.34939526e+04,  2.39667347e+04,\n",
       "        3.84107063e+04,  1.99476519e+04,  5.45936190e+04,  4.55115722e+03,\n",
       "       -1.04934877e+05, -1.31237096e+05, -2.78686639e-06,  1.54223766e+06,\n",
       "        2.39524890e+04,  7.60698210e+04, -1.27869357e+04, -6.43582404e+03,\n",
       "       -4.58543373e+04, -3.06176538e+05, -3.49519162e+05, -5.57178595e+04,\n",
       "       -1.48604158e-06,  4.65661287e-10,  2.76726926e+04,  5.63314782e+04,\n",
       "       -1.56212640e+04,  4.65393544e+05, -1.42354769e+04,  1.01572447e+06,\n",
       "       -1.05864681e+05, -2.69422598e+05,  1.55544354e+04, -1.27088248e+05,\n",
       "       -7.55795408e+04, -1.14249211e+05, -3.96168635e+04, -1.07499742e+05,\n",
       "        2.77888975e+05,  1.79586793e+04,  5.65990048e+05,  9.04083869e+04,\n",
       "        4.64467323e+04,  2.45304545e-06, -6.44391622e+04, -6.95635440e+04,\n",
       "       -8.69878439e+04, -2.67861775e+05,  2.36141204e-06, -1.19176228e+04,\n",
       "        3.74133274e+04,  3.09333330e+03,  7.75107629e+04, -2.12064089e+04,\n",
       "       -8.63452442e-07, -2.91402102e-07, -5.28546306e+04, -4.46897704e+04,\n",
       "        3.77096538e+05, -4.85568307e-07,  6.25484972e-07,  5.67626709e+05,\n",
       "       -2.45361535e+05,  8.28826099e+04,  4.79685530e+05, -1.13558524e+05,\n",
       "        4.06524870e+04, -1.90476164e+05, -1.69532304e+04, -8.63954735e+04,\n",
       "        5.74671167e+05, -2.11597831e+05,  1.36506358e+05, -2.89565651e-06,\n",
       "       -7.94813407e+04,  7.94389734e+04, -4.66725122e+04, -6.54684941e+04,\n",
       "        2.90314557e+05,  3.22682827e+04,  2.30440656e+05, -6.64705729e+05,\n",
       "       -6.52861892e+04, -2.09323275e+04, -9.24446004e+04, -1.95049123e+04,\n",
       "       -1.17888397e+05, -2.33550822e+05, -5.66635983e+04,  1.01439679e+04,\n",
       "        3.01219045e+05, -5.29960900e+04,  3.61013720e+03,  1.85755442e+05,\n",
       "        1.05392562e+05, -1.26734688e+05,  2.14415839e+04, -2.45773662e+05,\n",
       "       -1.25196333e+05, -1.51008956e+04,  7.18662382e+04, -2.11835224e+05,\n",
       "       -1.54689899e+05,  1.30695484e+05, -6.56140719e+04, -1.43459242e+05,\n",
       "        1.06429244e+05,  1.24445702e+04,  1.82168151e-07,  1.56171432e+05,\n",
       "        6.93686121e+04, -2.73239345e+05,  5.19527006e+04, -3.60806863e+03,\n",
       "        6.89005808e+04, -1.30024622e+05, -1.64718432e+03, -5.17614675e+04,\n",
       "        1.14061961e+04,  7.85260599e+05, -1.01924935e+04, -4.69268474e+04,\n",
       "        1.74829330e+05, -2.98764159e+04,  2.03121570e+05, -1.61952933e+03,\n",
       "       -3.32911858e+05,  1.51997554e+05,  2.74806782e+05, -4.57161002e+04,\n",
       "       -4.58876888e+04,  2.96072407e+04, -1.55790052e+04, -1.52633201e+05,\n",
       "       -2.63374415e+05, -2.10151486e+04, -7.38405540e+04, -2.69507548e+04,\n",
       "       -1.36889867e-06,  1.23899260e+04,  6.59168392e+04,  1.98624743e+05,\n",
       "        2.03186004e+05,  1.78389940e+05,  4.79684373e+05, -1.23675640e+05,\n",
       "        3.56805885e+04,  5.64737036e+03, -2.66427576e+04, -1.60173298e+05,\n",
       "        1.05878496e+05,  3.22449161e+03, -1.19290780e-06,  9.90208881e+04,\n",
       "       -6.35761621e+05, -4.61334627e+05, -1.01594333e+05,  8.98290651e+04,\n",
       "       -1.46648994e+05,  6.38374745e+04, -1.98003145e+04,  1.95300618e+05,\n",
       "       -4.17046154e+03, -4.21646427e+04, -2.36388978e+05, -5.02613761e+04,\n",
       "       -1.17892534e+05, -5.62992127e+05,  2.40444631e+05,  5.83463804e+04,\n",
       "       -2.15848233e+04,  5.03352885e+04,  2.12448478e+03, -2.10541477e+04,\n",
       "        1.40812699e-06, -5.94058357e+04, -7.99440278e+04,  2.95211398e+05,\n",
       "       -2.63341242e+05,  2.51730944e+05, -3.86546048e+05,  8.16442628e+04,\n",
       "        1.13648660e+05,  1.18823722e+05, -6.80885755e+05,  8.48236156e+04,\n",
       "       -4.74188164e+05, -5.31032507e+03, -2.18677608e+05, -3.41879740e+05,\n",
       "        6.09252311e-07, -3.80683341e+04, -4.94489189e+05,  2.74936121e+05,\n",
       "        6.92628491e+03,  1.41370614e+05, -1.22716680e+05, -1.46162165e-06,\n",
       "       -3.28789520e+04, -3.29566440e+05, -1.80492741e+04, -2.76170723e+05,\n",
       "        1.10316614e-06,  3.72412615e-07, -1.76925803e+05,  9.75882385e+04,\n",
       "       -4.90596228e+04, -1.04022514e+05, -5.32108639e+05, -1.22684108e+05,\n",
       "        8.01403614e+04, -4.49305014e+04, -2.14397744e+05, -3.75068787e+04,\n",
       "        2.54388119e+05, -2.94233990e+04,  7.58545732e+04,  9.62393374e+05,\n",
       "       -2.10882943e+05, -8.86092248e+04, -1.04666020e+05, -2.90370641e+05,\n",
       "        4.27619877e+04, -6.10319592e+04,  5.18811050e+05, -5.80270237e+04,\n",
       "        1.35314398e+03, -5.09440724e-07,  2.07235622e+05, -3.85745107e+05,\n",
       "       -1.82258582e+05,  1.72329366e+05, -8.55598042e+04,  2.60082756e+04,\n",
       "        3.81316203e+04,  1.28035972e+05, -1.40752873e+05, -5.97105268e+04,\n",
       "       -2.37787760e+04, -1.17299587e+05, -3.50314732e+05, -1.90895863e+02,\n",
       "       -6.98408145e+04,  1.54601367e+05, -5.93810715e+04,  1.16265964e+05,\n",
       "        1.85332661e+05, -1.32777172e+05,  0.00000000e+00,  0.00000000e+00,\n",
       "        5.74680497e+05,  2.10831563e+04,  1.98190058e+05,  3.02361185e+04,\n",
       "       -4.71206184e+04, -2.88197242e+05,  0.00000000e+00,  1.36875962e+05,\n",
       "       -1.38284583e+05, -2.30492137e+05,  3.62373426e+05,  2.45556182e+05,\n",
       "       -2.80580502e+05,  2.13725341e+05,  1.32914552e+05, -1.05676995e+05,\n",
       "        3.16434815e+05,  5.12289937e+04, -7.52853981e+04, -1.62230769e+05,\n",
       "       -1.75808712e+05,  1.30945534e+05, -5.47855987e+04,  5.50533327e+05,\n",
       "       -2.52463986e+04, -2.25589268e+05, -2.65928547e+04, -7.94241213e+04,\n",
       "       -1.85357002e+05,  1.43066291e+05, -1.64900616e+04, -6.96125707e+04,\n",
       "        0.00000000e+00, -1.72735949e+05, -1.49085830e+05,  5.41280999e+04,\n",
       "        2.22789446e+05, -3.17748180e+04, -6.57594482e+04, -2.61316458e+05,\n",
       "       -2.67918476e+04, -3.05926809e+03, -5.43553625e+03,  2.15316967e+05,\n",
       "       -2.54288416e+05,  2.52614001e+05,  6.11205860e+04, -7.38947875e+04,\n",
       "       -2.80166625e+05,  8.47338109e+04])"
      ]
     },
     "execution_count": 32,
     "metadata": {},
     "output_type": "execute_result"
    }
   ],
   "source": [
    "regression_model.coef_"
   ]
  },
  {
   "cell_type": "code",
   "execution_count": 31,
   "id": "d9a6913b",
   "metadata": {},
   "outputs": [
    {
     "data": {
      "text/plain": [
       "768257.7515664991"
      ]
     },
     "execution_count": 31,
     "metadata": {},
     "output_type": "execute_result"
    }
   ],
   "source": [
    "regression_model.intercept_"
   ]
  },
  {
   "cell_type": "code",
   "execution_count": null,
   "id": "662593ef",
   "metadata": {},
   "outputs": [],
   "source": []
  },
  {
   "cell_type": "markdown",
   "id": "d0a43aaf",
   "metadata": {},
   "source": [
    "6) Display Mean Squared Error"
   ]
  },
  {
   "cell_type": "code",
   "execution_count": 33,
   "id": "c8f41adb",
   "metadata": {},
   "outputs": [],
   "source": [
    "from sklearn.metrics import mean_squared_error"
   ]
  },
  {
   "cell_type": "code",
   "execution_count": 34,
   "id": "f5e7d66c",
   "metadata": {},
   "outputs": [],
   "source": [
    "mse=mean_squared_error(Y_test, Predicted_Price)"
   ]
  },
  {
   "cell_type": "code",
   "execution_count": 35,
   "id": "e958bcc0",
   "metadata": {},
   "outputs": [
    {
     "data": {
      "text/plain": [
       "171312275880.27432"
      ]
     },
     "execution_count": 35,
     "metadata": {},
     "output_type": "execute_result"
    }
   ],
   "source": [
    "mse"
   ]
  },
  {
   "cell_type": "code",
   "execution_count": null,
   "id": "f461ed62",
   "metadata": {},
   "outputs": [],
   "source": []
  },
  {
   "cell_type": "markdown",
   "id": "5f712939",
   "metadata": {},
   "source": [
    "7) Display Mean Absolute Error"
   ]
  },
  {
   "cell_type": "code",
   "execution_count": 37,
   "id": "6f2fa445",
   "metadata": {},
   "outputs": [],
   "source": [
    "from sklearn.metrics import mean_absolute_error"
   ]
  },
  {
   "cell_type": "code",
   "execution_count": 38,
   "id": "ad09cc75",
   "metadata": {},
   "outputs": [],
   "source": [
    "mae=mean_absolute_error(Y_test, Predicted_Price)"
   ]
  },
  {
   "cell_type": "code",
   "execution_count": 39,
   "id": "8ef6ecde",
   "metadata": {},
   "outputs": [
    {
     "data": {
      "text/plain": [
       "238130.62997207887"
      ]
     },
     "execution_count": 39,
     "metadata": {},
     "output_type": "execute_result"
    }
   ],
   "source": [
    "mae"
   ]
  },
  {
   "cell_type": "code",
   "execution_count": null,
   "id": "50b6a1f6",
   "metadata": {},
   "outputs": [],
   "source": []
  },
  {
   "cell_type": "markdown",
   "id": "5be3c1fc",
   "metadata": {},
   "source": [
    "8) Display Root mean Squared error"
   ]
  },
  {
   "cell_type": "code",
   "execution_count": 40,
   "id": "648c854b",
   "metadata": {},
   "outputs": [
    {
     "data": {
      "text/plain": [
       "171312275880.27432"
      ]
     },
     "execution_count": 40,
     "metadata": {},
     "output_type": "execute_result"
    }
   ],
   "source": [
    "mse"
   ]
  },
  {
   "cell_type": "code",
   "execution_count": 41,
   "id": "5a5f1a1a",
   "metadata": {},
   "outputs": [],
   "source": [
    "rmse=np.sqrt(mse)"
   ]
  },
  {
   "cell_type": "code",
   "execution_count": 42,
   "id": "f9761810",
   "metadata": {},
   "outputs": [
    {
     "data": {
      "text/plain": [
       "413898.87156197266"
      ]
     },
     "execution_count": 42,
     "metadata": {},
     "output_type": "execute_result"
    }
   ],
   "source": [
    "rmse"
   ]
  },
  {
   "cell_type": "code",
   "execution_count": null,
   "id": "5556e635",
   "metadata": {},
   "outputs": [],
   "source": []
  },
  {
   "cell_type": "markdown",
   "id": "5f33a270",
   "metadata": {},
   "source": [
    "9) Display R2 score"
   ]
  },
  {
   "cell_type": "code",
   "execution_count": 43,
   "id": "4cb4fcf8",
   "metadata": {},
   "outputs": [],
   "source": [
    "from sklearn.metrics import r2_score"
   ]
  },
  {
   "cell_type": "code",
   "execution_count": 44,
   "id": "e2a59588",
   "metadata": {},
   "outputs": [],
   "source": [
    "r2=r2_score(Y_test, Predicted_Price)"
   ]
  },
  {
   "cell_type": "code",
   "execution_count": 45,
   "id": "7d53bdb3",
   "metadata": {},
   "outputs": [
    {
     "data": {
      "text/plain": [
       "0.6086929919545001"
      ]
     },
     "execution_count": 45,
     "metadata": {},
     "output_type": "execute_result"
    }
   ],
   "source": [
    "r2"
   ]
  },
  {
   "cell_type": "code",
   "execution_count": null,
   "id": "80df9679",
   "metadata": {},
   "outputs": [],
   "source": []
  },
  {
   "cell_type": "code",
   "execution_count": null,
   "id": "ca0c8bd3",
   "metadata": {},
   "outputs": [],
   "source": []
  }
 ],
 "metadata": {
  "kernelspec": {
   "display_name": "Python 3 (ipykernel)",
   "language": "python",
   "name": "python3"
  },
  "language_info": {
   "codemirror_mode": {
    "name": "ipython",
    "version": 3
   },
   "file_extension": ".py",
   "mimetype": "text/x-python",
   "name": "python",
   "nbconvert_exporter": "python",
   "pygments_lexer": "ipython3",
   "version": "3.9.7"
  }
 },
 "nbformat": 4,
 "nbformat_minor": 5
}
